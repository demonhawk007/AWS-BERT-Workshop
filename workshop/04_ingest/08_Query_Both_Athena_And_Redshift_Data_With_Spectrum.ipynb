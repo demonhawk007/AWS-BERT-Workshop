{
 "cells": [
  {
   "cell_type": "markdown",
   "metadata": {},
   "source": [
    "# Query Both Athena And Redshift With `Redshift Spectrum`\n"
   ]
  },
  {
   "cell_type": "markdown",
   "metadata": {},
   "source": [
    "We can leverage our previously created table in Amazon Athena with its metadata and schema information stored in the AWS Glue Data Catalog to access our data in S3 through Redshift Spectrum. All we need to do is create an external schema in Redshift, point it to our AWS Glue Data Catalog, and point Redshift to the database we’ve created.  \n"
   ]
  },
  {
   "cell_type": "markdown",
   "metadata": {},
   "source": [
    "<img src=\"img/redshift_spectrum.png\" width=\"90%\" align=\"left\">"
   ]
  },
  {
   "cell_type": "code",
   "execution_count": 1,
   "metadata": {},
   "outputs": [],
   "source": [
    "import boto3\n",
    "import sagemaker\n",
    "\n",
    "# Get region \n",
    "session = boto3.session.Session()\n",
    "region_name = session.region_name\n",
    "\n",
    "# Get SageMaker session & default S3 bucket\n",
    "sagemaker_session = sagemaker.Session()\n",
    "bucket = sagemaker_session.default_bucket()"
   ]
  },
  {
   "cell_type": "markdown",
   "metadata": {},
   "source": [
    "# Connect to Redshift\n"
   ]
  },
  {
   "cell_type": "code",
   "execution_count": 2,
   "metadata": {},
   "outputs": [],
   "source": [
    "redshift = boto3.client('redshift')\n",
    "secretsmanager = boto3.client('secretsmanager')"
   ]
  },
  {
   "cell_type": "markdown",
   "metadata": {},
   "source": [
    "# Setup Redshift Connection Via SQLAlchemy\n",
    "The Python SQL Toolkit and Object Relational Mapper (https://pypi.org/project/SQLAlchemy/)"
   ]
  },
  {
   "cell_type": "code",
   "execution_count": 3,
   "metadata": {},
   "outputs": [],
   "source": [
    "!pip install -q SQLAlchemy==1.3.13"
   ]
  },
  {
   "cell_type": "code",
   "execution_count": 4,
   "metadata": {},
   "outputs": [],
   "source": [
    "from sqlalchemy import create_engine\n",
    "from sqlalchemy.orm import sessionmaker\n",
    "import pandas as pd"
   ]
  },
  {
   "cell_type": "markdown",
   "metadata": {},
   "source": [
    "# Get Redshift Credentials"
   ]
  },
  {
   "cell_type": "code",
   "execution_count": 5,
   "metadata": {},
   "outputs": [],
   "source": [
    "import json\n",
    "\n",
    "secret = secretsmanager.get_secret_value(SecretId='dsoaws_redshift_login')\n",
    "cred = json.loads(secret['SecretString'])\n",
    "\n",
    "master_user_name = cred[0]['username']\n",
    "master_user_pw = cred[1]['password']"
   ]
  },
  {
   "cell_type": "markdown",
   "metadata": {},
   "source": [
    "# Redshift Configuration Parameters"
   ]
  },
  {
   "cell_type": "code",
   "execution_count": 6,
   "metadata": {},
   "outputs": [],
   "source": [
    "redshift_cluster_identifier = 'dsoaws'\n",
    "\n",
    "database_name_redshift = 'dsoaws'\n",
    "database_name_athena = 'dsoaws'\n",
    "\n",
    "redshift_port = '5439'\n",
    "\n",
    "schema_redshift = 'redshift'\n",
    "schema_athena = 'athena'\n",
    "\n",
    "table_name_tsv = 'amazon_reviews_tsv'"
   ]
  },
  {
   "cell_type": "markdown",
   "metadata": {},
   "source": [
    "# Please Wait for Cluster Status  `Available`"
   ]
  },
  {
   "cell_type": "code",
   "execution_count": 7,
   "metadata": {},
   "outputs": [
    {
     "name": "stdout",
     "output_type": "stream",
     "text": [
      "available\n"
     ]
    }
   ],
   "source": [
    "import time\n",
    "\n",
    "response = redshift.describe_clusters(ClusterIdentifier=redshift_cluster_identifier)\n",
    "cluster_status = response['Clusters'][0]['ClusterStatus']\n",
    "print(cluster_status)\n",
    "\n",
    "while cluster_status != 'available':\n",
    "    time.sleep(10)\n",
    "    response = redshift.describe_clusters(ClusterIdentifier=redshift_cluster_identifier)\n",
    "    cluster_status = response['Clusters'][0]['ClusterStatus']\n",
    "    print(cluster_status)"
   ]
  },
  {
   "cell_type": "markdown",
   "metadata": {},
   "source": [
    "# Get Redshift Endpoint Address & IAM Role"
   ]
  },
  {
   "cell_type": "code",
   "execution_count": 8,
   "metadata": {},
   "outputs": [
    {
     "name": "stdout",
     "output_type": "stream",
     "text": [
      "Redshift endpoint: dsoaws.cnasvtmfbh3k.us-west-2.redshift.amazonaws.com\n",
      "IAM Role: arn:aws:iam::393371431575:role/DSOAWS_Redshift\n"
     ]
    }
   ],
   "source": [
    "redshift_endpoint_address = response['Clusters'][0]['Endpoint']['Address']\n",
    "iam_role = response['Clusters'][0]['IamRoles'][0]['IamRoleArn']\n",
    "\n",
    "print('Redshift endpoint: {}'.format(redshift_endpoint_address))\n",
    "print('IAM Role: {}'.format(iam_role))"
   ]
  },
  {
   "cell_type": "markdown",
   "metadata": {},
   "source": [
    "# Connect to Redshift Database Engine"
   ]
  },
  {
   "cell_type": "code",
   "execution_count": 9,
   "metadata": {},
   "outputs": [],
   "source": [
    "engine = create_engine('postgresql://{}:{}@{}:{}/{}'.format(master_user_name, master_user_pw, redshift_endpoint_address, redshift_port, database_name_redshift))\n"
   ]
  },
  {
   "cell_type": "markdown",
   "metadata": {},
   "source": [
    "# Configure Session"
   ]
  },
  {
   "cell_type": "code",
   "execution_count": 10,
   "metadata": {},
   "outputs": [],
   "source": [
    "session = sessionmaker()\n",
    "session.configure(bind=engine)\n",
    "s = session()"
   ]
  },
  {
   "cell_type": "markdown",
   "metadata": {},
   "source": [
    "# Redshift Spectrum\n",
    "Amazon Redshift Spectrum directly queries data in S3, using the same SQL syntax of Amazon Redshift. You can also run queries that span both the frequently accessed data stored locally in Amazon Redshift and your full datasets stored cost-effectively in S3.\n",
    "\n",
    "To use Redshift Spectrum, your cluster needs authorization to access data catalog in Amazon Athena and your data files in Amazon S3. You provide that authorization by referencing an AWS Identity and Access Management (IAM) role that is attached to your cluster. \n",
    "\n",
    "To use this capability in from your Amazon SageMaker notebook:\n",
    "\n",
    "* Register your Athena database `dsoaws` with Redshift Spectrum\n",
    "* Query Your Data in Amazon S3"
   ]
  },
  {
   "cell_type": "markdown",
   "metadata": {},
   "source": [
    "# Query Redshift\n",
    "\n",
    "Let's query results across Athena and Redshift tables using just Redshift.  This feature is called Redshift Spectrum.  We will use a `UNION ALL` for this.  Similarly, if we need to delete data, we would drop the tables using `UNION ALL`."
   ]
  },
  {
   "cell_type": "markdown",
   "metadata": {},
   "source": [
    "# Use `UNION ALL` across 2 tables (2015, 2014) in our `redshift` schema"
   ]
  },
  {
   "cell_type": "code",
   "execution_count": 11,
   "metadata": {},
   "outputs": [
    {
     "name": "stdout",
     "output_type": "stream",
     "text": [
      "\n",
      "SELECT year, product_category, COUNT(star_rating) AS count_star_rating\n",
      "  FROM redshift.amazon_reviews_tsv_2015\n",
      "  GROUP BY redshift.amazon_reviews_tsv_2015.product_category, year\n",
      "UNION ALL\n",
      "SELECT year, product_category, COUNT(star_rating) AS count_star_rating\n",
      "  FROM redshift.amazon_reviews_tsv_2014\n",
      "  GROUP BY redshift.amazon_reviews_tsv_2014.product_category, year\n",
      "ORDER BY product_category ASC, year DESC\n",
      "\n"
     ]
    }
   ],
   "source": [
    "statement = \"\"\"\n",
    "SELECT year, product_category, COUNT(star_rating) AS count_star_rating\n",
    "  FROM redshift.amazon_reviews_tsv_2015\n",
    "  GROUP BY redshift.amazon_reviews_tsv_2015.product_category, year\n",
    "UNION ALL\n",
    "SELECT year, product_category, COUNT(star_rating) AS count_star_rating\n",
    "  FROM redshift.amazon_reviews_tsv_2014\n",
    "  GROUP BY redshift.amazon_reviews_tsv_2014.product_category, year\n",
    "ORDER BY product_category ASC, year DESC\n",
    "\"\"\"\n",
    "\n",
    "print(statement)"
   ]
  },
  {
   "cell_type": "code",
   "execution_count": 12,
   "metadata": {},
   "outputs": [
    {
     "data": {
      "text/html": [
       "<div>\n",
       "<style scoped>\n",
       "    .dataframe tbody tr th:only-of-type {\n",
       "        vertical-align: middle;\n",
       "    }\n",
       "\n",
       "    .dataframe tbody tr th {\n",
       "        vertical-align: top;\n",
       "    }\n",
       "\n",
       "    .dataframe thead th {\n",
       "        text-align: right;\n",
       "    }\n",
       "</style>\n",
       "<table border=\"1\" class=\"dataframe\">\n",
       "  <thead>\n",
       "    <tr style=\"text-align: right;\">\n",
       "      <th></th>\n",
       "      <th>year</th>\n",
       "      <th>product_category</th>\n",
       "      <th>count_star_rating</th>\n",
       "    </tr>\n",
       "  </thead>\n",
       "  <tbody>\n",
       "    <tr>\n",
       "      <th>0</th>\n",
       "      <td>2015</td>\n",
       "      <td>Digital_Software</td>\n",
       "      <td>35585</td>\n",
       "    </tr>\n",
       "    <tr>\n",
       "      <th>1</th>\n",
       "      <td>2014</td>\n",
       "      <td>Digital_Software</td>\n",
       "      <td>36745</td>\n",
       "    </tr>\n",
       "    <tr>\n",
       "      <th>2</th>\n",
       "      <td>2015</td>\n",
       "      <td>Digital_Video_Games</td>\n",
       "      <td>30026</td>\n",
       "    </tr>\n",
       "    <tr>\n",
       "      <th>3</th>\n",
       "      <td>2014</td>\n",
       "      <td>Digital_Video_Games</td>\n",
       "      <td>43754</td>\n",
       "    </tr>\n",
       "  </tbody>\n",
       "</table>\n",
       "</div>"
      ],
      "text/plain": [
       "   year     product_category  count_star_rating\n",
       "0  2015     Digital_Software              35585\n",
       "1  2014     Digital_Software              36745\n",
       "2  2015  Digital_Video_Games              30026\n",
       "3  2014  Digital_Video_Games              43754"
      ]
     },
     "execution_count": 12,
     "metadata": {},
     "output_type": "execute_result"
    }
   ],
   "source": [
    "df = pd.read_sql_query(statement, engine)\n",
    "df.head(20)"
   ]
  },
  {
   "cell_type": "markdown",
   "metadata": {},
   "source": [
    "# Run Same Query on Original Data in S3 using `athena` Schema to Verify  the Results Match"
   ]
  },
  {
   "cell_type": "code",
   "execution_count": 13,
   "metadata": {},
   "outputs": [
    {
     "name": "stdout",
     "output_type": "stream",
     "text": [
      "\n",
      "SELECT CAST(DATE_PART_YEAR(TO_DATE(review_date, 'YYYY-MM-DD')) AS INTEGER) AS year, product_category, COUNT(star_rating) AS count_star_rating\n",
      "  FROM athena.amazon_reviews_tsv\n",
      "  WHERE year = 2015 OR year = 2014 \n",
      "  GROUP BY athena.amazon_reviews_tsv.product_category, year\n",
      "ORDER BY product_category ASC, year DESC\n",
      "\n"
     ]
    }
   ],
   "source": [
    "statement = \"\"\"\n",
    "SELECT CAST(DATE_PART_YEAR(TO_DATE(review_date, 'YYYY-MM-DD')) AS INTEGER) AS year, product_category, COUNT(star_rating) AS count_star_rating\n",
    "  FROM athena.amazon_reviews_tsv\n",
    "  WHERE year = 2015 OR year = 2014 \n",
    "  GROUP BY athena.amazon_reviews_tsv.product_category, year\n",
    "ORDER BY product_category ASC, year DESC\n",
    "\"\"\"\n",
    "\n",
    "print(statement)"
   ]
  },
  {
   "cell_type": "code",
   "execution_count": 14,
   "metadata": {},
   "outputs": [
    {
     "data": {
      "text/html": [
       "<div>\n",
       "<style scoped>\n",
       "    .dataframe tbody tr th:only-of-type {\n",
       "        vertical-align: middle;\n",
       "    }\n",
       "\n",
       "    .dataframe tbody tr th {\n",
       "        vertical-align: top;\n",
       "    }\n",
       "\n",
       "    .dataframe thead th {\n",
       "        text-align: right;\n",
       "    }\n",
       "</style>\n",
       "<table border=\"1\" class=\"dataframe\">\n",
       "  <thead>\n",
       "    <tr style=\"text-align: right;\">\n",
       "      <th></th>\n",
       "      <th>year</th>\n",
       "      <th>product_category</th>\n",
       "      <th>count_star_rating</th>\n",
       "    </tr>\n",
       "  </thead>\n",
       "  <tbody>\n",
       "    <tr>\n",
       "      <th>0</th>\n",
       "      <td>2015</td>\n",
       "      <td>Digital_Software</td>\n",
       "      <td>35585</td>\n",
       "    </tr>\n",
       "    <tr>\n",
       "      <th>1</th>\n",
       "      <td>2014</td>\n",
       "      <td>Digital_Software</td>\n",
       "      <td>36745</td>\n",
       "    </tr>\n",
       "    <tr>\n",
       "      <th>2</th>\n",
       "      <td>2015</td>\n",
       "      <td>Digital_Video_Games</td>\n",
       "      <td>30026</td>\n",
       "    </tr>\n",
       "    <tr>\n",
       "      <th>3</th>\n",
       "      <td>2014</td>\n",
       "      <td>Digital_Video_Games</td>\n",
       "      <td>43754</td>\n",
       "    </tr>\n",
       "  </tbody>\n",
       "</table>\n",
       "</div>"
      ],
      "text/plain": [
       "   year     product_category  count_star_rating\n",
       "0  2015     Digital_Software              35585\n",
       "1  2014     Digital_Software              36745\n",
       "2  2015  Digital_Video_Games              30026\n",
       "3  2014  Digital_Video_Games              43754"
      ]
     },
     "execution_count": 14,
     "metadata": {},
     "output_type": "execute_result"
    }
   ],
   "source": [
    "df = pd.read_sql_query(statement, engine)\n",
    "df.head(20)"
   ]
  },
  {
   "cell_type": "markdown",
   "metadata": {},
   "source": [
    "# Now Query Across Both Redshift and Athena in a single query\n",
    "\n",
    "Use `UNION ALL` across 2 Redshift tables (2015, 2014) and the rest from Athena/S3 (2013-1995)"
   ]
  },
  {
   "cell_type": "code",
   "execution_count": 15,
   "metadata": {
    "scrolled": true
   },
   "outputs": [
    {
     "name": "stdout",
     "output_type": "stream",
     "text": [
      "\n",
      "SELECT year, product_category, COUNT(star_rating) AS count_star_rating\n",
      "  FROM redshift.amazon_reviews_tsv_2015\n",
      "  GROUP BY redshift.amazon_reviews_tsv_2015.product_category, year\n",
      "UNION ALL\n",
      "SELECT year, product_category, COUNT(star_rating) AS count_star_rating\n",
      "  FROM redshift.amazon_reviews_tsv_2014\n",
      "  GROUP BY redshift.amazon_reviews_tsv_2014.product_category, year\n",
      "UNION ALL\n",
      "SELECT CAST(DATE_PART_YEAR(TO_DATE(review_date, 'YYYY-MM-DD')) AS INTEGER) AS year, product_category, COUNT(star_rating) AS count_star_rating\n",
      "  FROM athena.amazon_reviews_tsv\n",
      "  WHERE year <= 2013\n",
      "  GROUP BY athena.amazon_reviews_tsv.product_category, year\n",
      "ORDER BY product_category ASC, year DESC\n",
      "\n"
     ]
    }
   ],
   "source": [
    "statement = \"\"\"\n",
    "SELECT year, product_category, COUNT(star_rating) AS count_star_rating\n",
    "  FROM redshift.amazon_reviews_tsv_2015\n",
    "  GROUP BY redshift.amazon_reviews_tsv_2015.product_category, year\n",
    "UNION ALL\n",
    "SELECT year, product_category, COUNT(star_rating) AS count_star_rating\n",
    "  FROM redshift.amazon_reviews_tsv_2014\n",
    "  GROUP BY redshift.amazon_reviews_tsv_2014.product_category, year\n",
    "UNION ALL\n",
    "SELECT CAST(DATE_PART_YEAR(TO_DATE(review_date, 'YYYY-MM-DD')) AS INTEGER) AS year, product_category, COUNT(star_rating) AS count_star_rating\n",
    "  FROM athena.amazon_reviews_tsv\n",
    "  WHERE year <= 2013\n",
    "  GROUP BY athena.amazon_reviews_tsv.product_category, year\n",
    "ORDER BY product_category ASC, year DESC\n",
    "\"\"\"\n",
    "\n",
    "print(statement)"
   ]
  },
  {
   "cell_type": "code",
   "execution_count": 16,
   "metadata": {},
   "outputs": [
    {
     "data": {
      "text/html": [
       "<div>\n",
       "<style scoped>\n",
       "    .dataframe tbody tr th:only-of-type {\n",
       "        vertical-align: middle;\n",
       "    }\n",
       "\n",
       "    .dataframe tbody tr th {\n",
       "        vertical-align: top;\n",
       "    }\n",
       "\n",
       "    .dataframe thead th {\n",
       "        text-align: right;\n",
       "    }\n",
       "</style>\n",
       "<table border=\"1\" class=\"dataframe\">\n",
       "  <thead>\n",
       "    <tr style=\"text-align: right;\">\n",
       "      <th></th>\n",
       "      <th>year</th>\n",
       "      <th>product_category</th>\n",
       "      <th>count_star_rating</th>\n",
       "    </tr>\n",
       "  </thead>\n",
       "  <tbody>\n",
       "    <tr>\n",
       "      <th>0</th>\n",
       "      <td>2015</td>\n",
       "      <td>Digital_Software</td>\n",
       "      <td>35585</td>\n",
       "    </tr>\n",
       "    <tr>\n",
       "      <th>1</th>\n",
       "      <td>2014</td>\n",
       "      <td>Digital_Software</td>\n",
       "      <td>36745</td>\n",
       "    </tr>\n",
       "    <tr>\n",
       "      <th>2</th>\n",
       "      <td>2013</td>\n",
       "      <td>Digital_Software</td>\n",
       "      <td>20453</td>\n",
       "    </tr>\n",
       "    <tr>\n",
       "      <th>3</th>\n",
       "      <td>2012</td>\n",
       "      <td>Digital_Software</td>\n",
       "      <td>5602</td>\n",
       "    </tr>\n",
       "    <tr>\n",
       "      <th>4</th>\n",
       "      <td>2011</td>\n",
       "      <td>Digital_Software</td>\n",
       "      <td>2312</td>\n",
       "    </tr>\n",
       "    <tr>\n",
       "      <th>5</th>\n",
       "      <td>2010</td>\n",
       "      <td>Digital_Software</td>\n",
       "      <td>1065</td>\n",
       "    </tr>\n",
       "    <tr>\n",
       "      <th>6</th>\n",
       "      <td>2009</td>\n",
       "      <td>Digital_Software</td>\n",
       "      <td>292</td>\n",
       "    </tr>\n",
       "    <tr>\n",
       "      <th>7</th>\n",
       "      <td>2008</td>\n",
       "      <td>Digital_Software</td>\n",
       "      <td>30</td>\n",
       "    </tr>\n",
       "    <tr>\n",
       "      <th>8</th>\n",
       "      <td>2015</td>\n",
       "      <td>Digital_Video_Games</td>\n",
       "      <td>30026</td>\n",
       "    </tr>\n",
       "    <tr>\n",
       "      <th>9</th>\n",
       "      <td>2014</td>\n",
       "      <td>Digital_Video_Games</td>\n",
       "      <td>43754</td>\n",
       "    </tr>\n",
       "    <tr>\n",
       "      <th>10</th>\n",
       "      <td>2013</td>\n",
       "      <td>Digital_Video_Games</td>\n",
       "      <td>43265</td>\n",
       "    </tr>\n",
       "    <tr>\n",
       "      <th>11</th>\n",
       "      <td>2012</td>\n",
       "      <td>Digital_Video_Games</td>\n",
       "      <td>16624</td>\n",
       "    </tr>\n",
       "    <tr>\n",
       "      <th>12</th>\n",
       "      <td>2011</td>\n",
       "      <td>Digital_Video_Games</td>\n",
       "      <td>7644</td>\n",
       "    </tr>\n",
       "    <tr>\n",
       "      <th>13</th>\n",
       "      <td>2010</td>\n",
       "      <td>Digital_Video_Games</td>\n",
       "      <td>2551</td>\n",
       "    </tr>\n",
       "    <tr>\n",
       "      <th>14</th>\n",
       "      <td>2009</td>\n",
       "      <td>Digital_Video_Games</td>\n",
       "      <td>1561</td>\n",
       "    </tr>\n",
       "    <tr>\n",
       "      <th>15</th>\n",
       "      <td>2008</td>\n",
       "      <td>Digital_Video_Games</td>\n",
       "      <td>5</td>\n",
       "    </tr>\n",
       "    <tr>\n",
       "      <th>16</th>\n",
       "      <td>2006</td>\n",
       "      <td>Digital_Video_Games</td>\n",
       "      <td>1</td>\n",
       "    </tr>\n",
       "  </tbody>\n",
       "</table>\n",
       "</div>"
      ],
      "text/plain": [
       "    year     product_category  count_star_rating\n",
       "0   2015     Digital_Software              35585\n",
       "1   2014     Digital_Software              36745\n",
       "2   2013     Digital_Software              20453\n",
       "3   2012     Digital_Software               5602\n",
       "4   2011     Digital_Software               2312\n",
       "5   2010     Digital_Software               1065\n",
       "6   2009     Digital_Software                292\n",
       "7   2008     Digital_Software                 30\n",
       "8   2015  Digital_Video_Games              30026\n",
       "9   2014  Digital_Video_Games              43754\n",
       "10  2013  Digital_Video_Games              43265\n",
       "11  2012  Digital_Video_Games              16624\n",
       "12  2011  Digital_Video_Games               7644\n",
       "13  2010  Digital_Video_Games               2551\n",
       "14  2009  Digital_Video_Games               1561\n",
       "15  2008  Digital_Video_Games                  5\n",
       "16  2006  Digital_Video_Games                  1"
      ]
     },
     "execution_count": 16,
     "metadata": {},
     "output_type": "execute_result"
    }
   ],
   "source": [
    "df = pd.read_sql_query(statement, engine)\n",
    "df.head(20)"
   ]
  },
  {
   "cell_type": "markdown",
   "metadata": {},
   "source": [
    "# Use `EXPLAIN` to Verify that Both Redshift and S3 are Part of the Same Query"
   ]
  },
  {
   "cell_type": "code",
   "execution_count": 17,
   "metadata": {},
   "outputs": [
    {
     "name": "stdout",
     "output_type": "stream",
     "text": [
      "\n",
      "EXPLAIN \n",
      "SELECT year, product_category, COUNT(star_rating) AS count_star_rating\n",
      "  FROM redshift.amazon_reviews_tsv_2015\n",
      "  GROUP BY redshift.amazon_reviews_tsv_2015.product_category, year\n",
      "UNION ALL\n",
      "SELECT year, product_category, COUNT(star_rating) AS count_star_rating\n",
      "  FROM redshift.amazon_reviews_tsv_2014\n",
      "  GROUP BY redshift.amazon_reviews_tsv_2014.product_category, year\n",
      "UNION ALL\n",
      "SELECT CAST(DATE_PART_YEAR(TO_DATE(review_date, 'YYYY-MM-DD')) AS INTEGER) AS year, product_category, COUNT(star_rating) AS count_star_rating\n",
      "  FROM athena.amazon_reviews_tsv\n",
      "  WHERE year <= 2013\n",
      "  GROUP BY athena.amazon_reviews_tsv.product_category, year\n",
      "ORDER BY product_category ASC, year DESC\n",
      "\n"
     ]
    }
   ],
   "source": [
    "statement = \"\"\"\n",
    "EXPLAIN \n",
    "SELECT year, product_category, COUNT(star_rating) AS count_star_rating\n",
    "  FROM redshift.amazon_reviews_tsv_2015\n",
    "  GROUP BY redshift.amazon_reviews_tsv_2015.product_category, year\n",
    "UNION ALL\n",
    "SELECT year, product_category, COUNT(star_rating) AS count_star_rating\n",
    "  FROM redshift.amazon_reviews_tsv_2014\n",
    "  GROUP BY redshift.amazon_reviews_tsv_2014.product_category, year\n",
    "UNION ALL\n",
    "SELECT CAST(DATE_PART_YEAR(TO_DATE(review_date, 'YYYY-MM-DD')) AS INTEGER) AS year, product_category, COUNT(star_rating) AS count_star_rating\n",
    "  FROM athena.amazon_reviews_tsv\n",
    "  WHERE year <= 2013\n",
    "  GROUP BY athena.amazon_reviews_tsv.product_category, year\n",
    "ORDER BY product_category ASC, year DESC\n",
    "\"\"\"\n",
    "\n",
    "print(statement)"
   ]
  },
  {
   "cell_type": "code",
   "execution_count": 18,
   "metadata": {
    "scrolled": true
   },
   "outputs": [
    {
     "data": {
      "text/html": [
       "<div>\n",
       "<style scoped>\n",
       "    .dataframe tbody tr th:only-of-type {\n",
       "        vertical-align: middle;\n",
       "    }\n",
       "\n",
       "    .dataframe tbody tr th {\n",
       "        vertical-align: top;\n",
       "    }\n",
       "\n",
       "    .dataframe thead th {\n",
       "        text-align: right;\n",
       "    }\n",
       "</style>\n",
       "<table border=\"1\" class=\"dataframe\">\n",
       "  <thead>\n",
       "    <tr style=\"text-align: right;\">\n",
       "      <th></th>\n",
       "      <th>QUERY PLAN</th>\n",
       "    </tr>\n",
       "  </thead>\n",
       "  <tbody>\n",
       "    <tr>\n",
       "      <th>0</th>\n",
       "      <td>XN Merge  (cost=1000175871803.46..1000175871873.32 rows=27946 width=1040)</td>\n",
       "    </tr>\n",
       "    <tr>\n",
       "      <th>1</th>\n",
       "      <td>Merge Key: product_category, \"year\"</td>\n",
       "    </tr>\n",
       "    <tr>\n",
       "      <th>2</th>\n",
       "      <td>-&gt;  XN Network  (cost=1000175871803.46..1000175871873.32 rows=27946 width=1040)</td>\n",
       "    </tr>\n",
       "    <tr>\n",
       "      <th>3</th>\n",
       "      <td>Send to leader</td>\n",
       "    </tr>\n",
       "    <tr>\n",
       "      <th>4</th>\n",
       "      <td>-&gt;  XN Sort  (cost=1000175871803.46..1000175871873.32 rows=27946 width=1040)</td>\n",
       "    </tr>\n",
       "    <tr>\n",
       "      <th>5</th>\n",
       "      <td>Sort Key: product_category, \"year\"</td>\n",
       "    </tr>\n",
       "    <tr>\n",
       "      <th>6</th>\n",
       "      <td>-&gt;  XN Append  (cost=1148.19..175869739.59 rows=27946 width=1040)</td>\n",
       "    </tr>\n",
       "    <tr>\n",
       "      <th>7</th>\n",
       "      <td>-&gt;  XN Subquery Scan \"*SELECT* 1\"  (cost=1148.19..1230.22 rows=6562 width=62)</td>\n",
       "    </tr>\n",
       "    <tr>\n",
       "      <th>8</th>\n",
       "      <td>-&gt;  XN HashAggregate  (cost=1148.19..1164.60 rows=6562 width=62)</td>\n",
       "    </tr>\n",
       "    <tr>\n",
       "      <th>9</th>\n",
       "      <td>-&gt;  XN Seq Scan on amazon_reviews_tsv_2015  (cost=0.00..656.11 rows=65611 width=62)</td>\n",
       "    </tr>\n",
       "    <tr>\n",
       "      <th>10</th>\n",
       "      <td>-&gt;  XN Subquery Scan \"*SELECT* 2\"  (cost=1408.73..1509.36 rows=8050 width=62)</td>\n",
       "    </tr>\n",
       "    <tr>\n",
       "      <th>11</th>\n",
       "      <td>-&gt;  XN HashAggregate  (cost=1408.73..1428.86 rows=8050 width=62)</td>\n",
       "    </tr>\n",
       "    <tr>\n",
       "      <th>12</th>\n",
       "      <td>-&gt;  XN Seq Scan on amazon_reviews_tsv_2014  (cost=0.00..804.99 rows=80499 width=62)</td>\n",
       "    </tr>\n",
       "    <tr>\n",
       "      <th>13</th>\n",
       "      <td>-&gt;  XN Subquery Scan \"*SELECT* 3\"  (cost=175866766.67..175867000.02 rows=13334 width=1040)</td>\n",
       "    </tr>\n",
       "    <tr>\n",
       "      <th>14</th>\n",
       "      <td>-&gt;  XN HashAggregate  (cost=175866766.67..175866866.68 rows=13334 width=1040)</td>\n",
       "    </tr>\n",
       "    <tr>\n",
       "      <th>15</th>\n",
       "      <td>-&gt;  XN S3 Query Scan amazon_reviews_tsv  (cost=175000000.00..175766766.67 rows=13333334 width=1040)</td>\n",
       "    </tr>\n",
       "    <tr>\n",
       "      <th>16</th>\n",
       "      <td>Filter: (date_part_year(to_date((derived_col1)::text, 'YYYY-MM-DD'::text)) &lt;= 2013)</td>\n",
       "    </tr>\n",
       "    <tr>\n",
       "      <th>17</th>\n",
       "      <td>-&gt;  S3 HashAggregate  (cost=175000000.00..175000100.00 rows=40000000 width=1036)</td>\n",
       "    </tr>\n",
       "    <tr>\n",
       "      <th>18</th>\n",
       "      <td>-&gt;  S3 Seq Scan athena.amazon_reviews_tsv location:\"s3://sagemaker-us-west-2-393371431575/amazon-reviews-pds/tsv\" format:TEXT  (cost=0.00..100000000.00 rows=10000000000 width=1036)</td>\n",
       "    </tr>\n",
       "    <tr>\n",
       "      <th>19</th>\n",
       "      <td>----- Tables missing statistics: amazon_reviews_tsv_2015, amazon_reviews_tsv_2014 -----</td>\n",
       "    </tr>\n",
       "    <tr>\n",
       "      <th>20</th>\n",
       "      <td>----- Update statistics by running the ANALYZE command on these tables -----</td>\n",
       "    </tr>\n",
       "  </tbody>\n",
       "</table>\n",
       "</div>"
      ],
      "text/plain": [
       "                                                                                                                                                                                                                          QUERY PLAN\n",
       "0                                                                                                                                                          XN Merge  (cost=1000175871803.46..1000175871873.32 rows=27946 width=1040)\n",
       "1                                                                                                                                                                                                Merge Key: product_category, \"year\"\n",
       "2                                                                                                                                                    ->  XN Network  (cost=1000175871803.46..1000175871873.32 rows=27946 width=1040)\n",
       "3                                                                                                                                                                                                                     Send to leader\n",
       "4                                                                                                                                                       ->  XN Sort  (cost=1000175871803.46..1000175871873.32 rows=27946 width=1040)\n",
       "5                                                                                                                                                                                                 Sort Key: product_category, \"year\"\n",
       "6                                                                                                                                                                  ->  XN Append  (cost=1148.19..175869739.59 rows=27946 width=1040)\n",
       "7                                                                                                                                                      ->  XN Subquery Scan \"*SELECT* 1\"  (cost=1148.19..1230.22 rows=6562 width=62)\n",
       "8                                                                                                                                                                   ->  XN HashAggregate  (cost=1148.19..1164.60 rows=6562 width=62)\n",
       "9                                                                                                                                                ->  XN Seq Scan on amazon_reviews_tsv_2015  (cost=0.00..656.11 rows=65611 width=62)\n",
       "10                                                                                                                                                     ->  XN Subquery Scan \"*SELECT* 2\"  (cost=1408.73..1509.36 rows=8050 width=62)\n",
       "11                                                                                                                                                                  ->  XN HashAggregate  (cost=1408.73..1428.86 rows=8050 width=62)\n",
       "12                                                                                                                                               ->  XN Seq Scan on amazon_reviews_tsv_2014  (cost=0.00..804.99 rows=80499 width=62)\n",
       "13                                                                                                                                        ->  XN Subquery Scan \"*SELECT* 3\"  (cost=175866766.67..175867000.02 rows=13334 width=1040)\n",
       "14                                                                                                                                                     ->  XN HashAggregate  (cost=175866766.67..175866866.68 rows=13334 width=1040)\n",
       "15                                                                                                                               ->  XN S3 Query Scan amazon_reviews_tsv  (cost=175000000.00..175766766.67 rows=13333334 width=1040)\n",
       "16                                                                                                                                               Filter: (date_part_year(to_date((derived_col1)::text, 'YYYY-MM-DD'::text)) <= 2013)\n",
       "17                                                                                                                                                  ->  S3 HashAggregate  (cost=175000000.00..175000100.00 rows=40000000 width=1036)\n",
       "18                                              ->  S3 Seq Scan athena.amazon_reviews_tsv location:\"s3://sagemaker-us-west-2-393371431575/amazon-reviews-pds/tsv\" format:TEXT  (cost=0.00..100000000.00 rows=10000000000 width=1036)\n",
       "19                                                                                                                                           ----- Tables missing statistics: amazon_reviews_tsv_2015, amazon_reviews_tsv_2014 -----\n",
       "20                                                                                                                                                      ----- Update statistics by running the ANALYZE command on these tables -----"
      ]
     },
     "execution_count": 18,
     "metadata": {},
     "output_type": "execute_result"
    }
   ],
   "source": [
    "pd.set_option('display.max_rows', None)\n",
    "pd.set_option('display.max_columns', None)\n",
    "pd.set_option('display.width', None)\n",
    "pd.set_option('display.max_colwidth', 1024)\n",
    "\n",
    "df = pd.read_sql_query(statement, engine)\n",
    "df.head(100)"
   ]
  },
  {
   "cell_type": "markdown",
   "metadata": {},
   "source": [
    "#### Expected Output\n",
    "```\n",
    "QUERYPLAN\n",
    "XN Merge  (cost=1000177373551.14..1000177373584.69 rows=13420 width=1040)\n",
    "  Merge Key: product_category, year\n",
    "  ->  XN Network  (cost=1000177373551.14..1000177373584.69 rows=13420 width=1040)\n",
    "        Send to leader\n",
    "        ->  XN Sort  (cost=1000177373551.14..1000177373584.69 rows=13420 width=1040)\n",
    "              Sort Key: product_category, year\n",
    "              ->  XN Append  (cost=733371.52..177372631.06 rows=13420 width=1040)\n",
    "                    ->  XN Subquery Scan *SELECT* 1  (cost=733371.52..733372.06 rows=43 width=22)\n",
    "                          ->  XN HashAggregate  (cost=733371.52..733371.63 rows=43 width=22)\n",
    "                                ->  XN Seq Scan on amazon_reviews_tsv_2015  (cost=0.00..419069.44 rows=41906944 width=22)\n",
    "                    ->  XN Subquery Scan *SELECT* 2  (cost=772258.45..772258.98 rows=43 width=23)\n",
    "                          ->  XN HashAggregate  (cost=772258.45..772258.55 rows=43 width=23)\n",
    "                                ->  XN Seq Scan on amazon_reviews_tsv_2014  (cost=0.00..441290.54 rows=44129054 width=23)\n",
    "                    ->  XN Subquery Scan *SELECT* 3  (cost=175866766.67..175867000.02 rows=13334 width=1040)\n",
    "                          ->  XN HashAggregate  (cost=175866766.67..175866866.68 rows=13334 width=1040)\n",
    "                                ->  XN S3 Query Scan amazon_reviews_tsv  (cost=175000000.00..175766766.67 rows=13333334 width=1040)\n",
    "                                      Filter: (date_part_year(to_date((derived_col1)::text, 'YYYY-MM-DD'::text)) <= 2013)\n",
    "                                      ->  S3 HashAggregate  (cost=175000000.00..175000100.00 rows=40000000 width=1036)\n",
    "                                            ->  S3 Seq Scan athena.amazon_reviews_tsv location:s3://sagemaker-us-west-2-237178646982/amazon-reviews-pds/tsv format:TEXT  (cost=0.00..100000000.00 rows=10000000000 width=1036)\n",
    "----- Tables missing statistics: amazon_reviews_tsv_2015, amazon_reviews_tsv_2014 -----\n",
    "----- Update statistics by running the ANALYZE command on these tables -----\n",
    "```"
   ]
  },
  {
   "cell_type": "markdown",
   "metadata": {},
   "source": [
    "# When to use Athena vs. Redshift?\n",
    "\n",
    "### Amazon Athena\n",
    "Athena should be your preferred choice when running ad-hoc SQL queries on data that is stored in Amazon S3. It doesn’t require you to set up or manage any infrastructure resources, and you don’t need to move any data. It supports structured, unstructured, and semi-structured data. With Athena, you are defining a **“schema on read”** - you basically just log in, create a table and you are good to go. \n",
    "\n",
    "### Amazon Redshift\n",
    "Redshift is targeted for modern data analytics on large sets of structured data. Here, you need to have a predefined **“schema on write”**. Unlike serverless Athena, Redshift requires you to create a cluster (compute and storage resources), ingest the data and build tables before you can start to query, but caters to performance and scale. So for any highly-relational data with a transactional nature (data gets updated), workloads which involve complex joins, and latency requirements to be sub-second, Redshift is the right choice.\n"
   ]
  },
  {
   "cell_type": "code",
   "execution_count": null,
   "metadata": {},
   "outputs": [],
   "source": [
    "%%javascript\n",
    "Jupyter.notebook.save_checkpoint();\n",
    "Jupyter.notebook.session.delete();"
   ]
  }
 ],
 "metadata": {
  "kernelspec": {
   "display_name": "conda_python3",
   "language": "python",
   "name": "conda_python3"
  },
  "language_info": {
   "codemirror_mode": {
    "name": "ipython",
    "version": 3
   },
   "file_extension": ".py",
   "mimetype": "text/x-python",
   "name": "python",
   "nbconvert_exporter": "python",
   "pygments_lexer": "ipython3",
   "version": "3.6.10"
  }
 },
 "nbformat": 4,
 "nbformat_minor": 4
}
