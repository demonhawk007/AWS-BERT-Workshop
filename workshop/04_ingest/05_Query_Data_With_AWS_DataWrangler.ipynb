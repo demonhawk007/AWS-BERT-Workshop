{
 "cells": [
  {
   "cell_type": "markdown",
   "metadata": {},
   "source": [
    "# Query Data with AWS Data Wrangler\n",
    "* https://github.com/awslabs/aws-data-wrangler\n",
    "* https://aws-data-wrangler.readthedocs.io"
   ]
  },
  {
   "cell_type": "markdown",
   "metadata": {},
   "source": [
    "AWS Data Wrangler is an open-source Python package that extends the power of the Pandas library to AWS connecting DataFrames and AWS data related services (Amazon Redshift, AWS Glue, Amazon Athena, Amazon EMR, Amazon QuickSight, etc).\n",
    "\n",
    "Built on top of other open-source projects like Pandas, Apache Arrow, Boto3, s3fs, SQLAlchemy, Psycopg2 and PyMySQL, it offers abstracted functions to execute usual ETL tasks like load/unload data from Data Lakes, Data Warehouses and Databases.\n",
    "\n",
    "_Note that AWS Data Wrangler is simply a Python library that uses existing AWS Services.  AWS Data Wrangler is not a separate AWS Service.  You install AWS Data Wrangler through `pip install` as we will see next._"
   ]
  },
  {
   "cell_type": "code",
   "execution_count": 1,
   "metadata": {},
   "outputs": [],
   "source": [
    "!pip install -q awswrangler==1.2.0"
   ]
  },
  {
   "cell_type": "code",
   "execution_count": 2,
   "metadata": {},
   "outputs": [],
   "source": [
    "import boto3\n",
    "import sagemaker\n",
    "\n",
    "# Get region \n",
    "session = boto3.session.Session()\n",
    "region_name = session.region_name\n",
    "\n",
    "# Get SageMaker session & default S3 bucket\n",
    "sagemaker_session = sagemaker.Session()\n",
    "bucket = sagemaker_session.default_bucket()"
   ]
  },
  {
   "cell_type": "code",
   "execution_count": 3,
   "metadata": {},
   "outputs": [],
   "source": [
    "import awswrangler as wr"
   ]
  },
  {
   "cell_type": "markdown",
   "metadata": {},
   "source": [
    "# Query Parquet from S3 with Push-Down Filters\n",
    "\n",
    "Read Apache Parquet file(s) from from a received S3 prefix or list of S3 objects paths.\n",
    "\n",
    "The concept of Dataset goes beyond the simple idea of files and enable more complex features like partitioning and catalog integration (AWS Glue Catalog): \n",
    "\n",
    "dataset (bool) – If True read a parquet dataset instead of simple file(s) loading all the related partitions as columns."
   ]
  },
  {
   "cell_type": "code",
   "execution_count": 4,
   "metadata": {},
   "outputs": [
    {
     "data": {
      "text/plain": [
       "(102084, 3)"
      ]
     },
     "execution_count": 4,
     "metadata": {},
     "output_type": "execute_result"
    }
   ],
   "source": [
    "path = '{}/amazon-reviews-pds/parquet/'.format(bucket)\n",
    "df_parquet_results = wr.s3.read_parquet(path,\n",
    "                                     columns=['star_rating', 'product_category', 'review_body'],\n",
    "                                     filters=[(\"product_category\", \"=\", \"Digital_Software\")],\n",
    "                                     dataset=True)\n",
    "df_parquet_results.shape"
   ]
  },
  {
   "cell_type": "code",
   "execution_count": 5,
   "metadata": {},
   "outputs": [
    {
     "data": {
      "text/html": [
       "<div>\n",
       "<style scoped>\n",
       "    .dataframe tbody tr th:only-of-type {\n",
       "        vertical-align: middle;\n",
       "    }\n",
       "\n",
       "    .dataframe tbody tr th {\n",
       "        vertical-align: top;\n",
       "    }\n",
       "\n",
       "    .dataframe thead th {\n",
       "        text-align: right;\n",
       "    }\n",
       "</style>\n",
       "<table border=\"1\" class=\"dataframe\">\n",
       "  <thead>\n",
       "    <tr style=\"text-align: right;\">\n",
       "      <th></th>\n",
       "      <th>star_rating</th>\n",
       "      <th>review_body</th>\n",
       "      <th>product_category</th>\n",
       "    </tr>\n",
       "  </thead>\n",
       "  <tbody>\n",
       "    <tr>\n",
       "      <th>0</th>\n",
       "      <td>5</td>\n",
       "      <td>It was easy to install,easy to update either m...</td>\n",
       "      <td>Digital_Software</td>\n",
       "    </tr>\n",
       "    <tr>\n",
       "      <th>1</th>\n",
       "      <td>2</td>\n",
       "      <td>Terrible software. The only reason to get it i...</td>\n",
       "      <td>Digital_Software</td>\n",
       "    </tr>\n",
       "    <tr>\n",
       "      <th>2</th>\n",
       "      <td>3</td>\n",
       "      <td>Liked my Quicken 2007 better. 2014 too busy fo...</td>\n",
       "      <td>Digital_Software</td>\n",
       "    </tr>\n",
       "    <tr>\n",
       "      <th>3</th>\n",
       "      <td>3</td>\n",
       "      <td>State will not e-file no mater what. Huge disa...</td>\n",
       "      <td>Digital_Software</td>\n",
       "    </tr>\n",
       "    <tr>\n",
       "      <th>4</th>\n",
       "      <td>4</td>\n",
       "      <td>Nice. Got a good deal right around the time wh...</td>\n",
       "      <td>Digital_Software</td>\n",
       "    </tr>\n",
       "  </tbody>\n",
       "</table>\n",
       "</div>"
      ],
      "text/plain": [
       "   star_rating                                        review_body  \\\n",
       "0            5  It was easy to install,easy to update either m...   \n",
       "1            2  Terrible software. The only reason to get it i...   \n",
       "2            3  Liked my Quicken 2007 better. 2014 too busy fo...   \n",
       "3            3  State will not e-file no mater what. Huge disa...   \n",
       "4            4  Nice. Got a good deal right around the time wh...   \n",
       "\n",
       "   product_category  \n",
       "0  Digital_Software  \n",
       "1  Digital_Software  \n",
       "2  Digital_Software  \n",
       "3  Digital_Software  \n",
       "4  Digital_Software  "
      ]
     },
     "execution_count": 5,
     "metadata": {},
     "output_type": "execute_result"
    }
   ],
   "source": [
    "df_parquet_results.head(5)"
   ]
  },
  {
   "cell_type": "markdown",
   "metadata": {},
   "source": [
    "# Query Parquet from S3 in Chunks"
   ]
  },
  {
   "cell_type": "markdown",
   "metadata": {},
   "source": [
    "Batching (chunked argument) (Memory Friendly):\n",
    "\n",
    "Will enable the function to return a Iterable of DataFrames instead of a regular DataFrame.\n",
    "\n",
    "There are two batching strategies on Wrangler:\n",
    "* If chunked=True, a new DataFrame will be returned for each file in your path/dataset.\n",
    "* If chunked=INTEGER, Wrangler will iterate on the data by number of rows equal to the received INTEGER.\n",
    "\n",
    "P.S. chunked=True if faster and uses less memory while chunked=INTEGER is more precise in number of rows for each Dataframe."
   ]
  },
  {
   "cell_type": "code",
   "execution_count": 6,
   "metadata": {},
   "outputs": [],
   "source": [
    "path = '{}/amazon-reviews-pds/parquet/'.format(bucket)\n",
    "chunk_iter = wr.s3.read_parquet(path,\n",
    "                                columns=['star_rating', 'product_category', 'review_body'],\n",
    "                                filters=[(\"product_category\", \"=\", \"Digital_Software\")],\n",
    "                                dataset=True,\n",
    "                                chunked=True)"
   ]
  },
  {
   "cell_type": "code",
   "execution_count": 7,
   "metadata": {
    "scrolled": true
   },
   "outputs": [
    {
     "name": "stdout",
     "output_type": "stream",
     "text": [
      "     star_rating                                        review_body  \\\n",
      "0              5  It was easy to install,easy to update either m...   \n",
      "1              2  Terrible software. The only reason to get it i...   \n",
      "2              3  Liked my Quicken 2007 better. 2014 too busy fo...   \n",
      "3              3  State will not e-file no mater what. Huge disa...   \n",
      "4              4  Nice. Got a good deal right around the time wh...   \n",
      "..           ...                                                ...   \n",
      "758            2  My frustrations with Quickbooks continue to be...   \n",
      "759            1  This is ridiculous. I wanted to spend my money...   \n",
      "760            4  I've used TurboTax for years with great result...   \n",
      "761            3  I have been using AVG for 2 or 3 years. I had ...   \n",
      "762            5  I have been using Norton for 7 years and after...   \n",
      "\n",
      "     product_category  \n",
      "0    Digital_Software  \n",
      "1    Digital_Software  \n",
      "2    Digital_Software  \n",
      "3    Digital_Software  \n",
      "4    Digital_Software  \n",
      "..                ...  \n",
      "758  Digital_Software  \n",
      "759  Digital_Software  \n",
      "760  Digital_Software  \n",
      "761  Digital_Software  \n",
      "762  Digital_Software  \n",
      "\n",
      "[763 rows x 3 columns]\n"
     ]
    }
   ],
   "source": [
    "print(next(chunk_iter))"
   ]
  },
  {
   "cell_type": "markdown",
   "metadata": {},
   "source": [
    "# Query the Glue Catalog (ie. Hive Metastore)\n",
    "Get an iterator of tables."
   ]
  },
  {
   "cell_type": "code",
   "execution_count": 8,
   "metadata": {},
   "outputs": [],
   "source": [
    "database_name = 'dsoaws'\n",
    "table_name_tsv = 'amazon_reviews_tsv'"
   ]
  },
  {
   "cell_type": "code",
   "execution_count": 9,
   "metadata": {},
   "outputs": [
    {
     "name": "stdout",
     "output_type": "stream",
     "text": [
      "amazon_reviews_parquet\n",
      "amazon_reviews_tsv\n"
     ]
    }
   ],
   "source": [
    "for table in wr.catalog.get_tables(database=\"dsoaws\"):\n",
    "    print(table['Name'])"
   ]
  },
  {
   "cell_type": "markdown",
   "metadata": {},
   "source": [
    "# Query from Athena\n",
    "Execute any SQL query on AWS Athena and return the results as a Pandas DataFrame.  \n"
   ]
  },
  {
   "cell_type": "code",
   "execution_count": 10,
   "metadata": {},
   "outputs": [
    {
     "name": "stdout",
     "output_type": "stream",
     "text": [
      "CPU times: user 282 ms, sys: 19 ms, total: 301 ms\n",
      "Wall time: 7.65 s\n"
     ]
    }
   ],
   "source": [
    "%%time\n",
    "df = wr.athena.read_sql_query(\n",
    "    sql='SELECT * FROM {} LIMIT 5000'.format(table_name_tsv),\n",
    "    database=database_name\n",
    ")"
   ]
  },
  {
   "cell_type": "code",
   "execution_count": 11,
   "metadata": {},
   "outputs": [
    {
     "data": {
      "text/html": [
       "<div>\n",
       "<style scoped>\n",
       "    .dataframe tbody tr th:only-of-type {\n",
       "        vertical-align: middle;\n",
       "    }\n",
       "\n",
       "    .dataframe tbody tr th {\n",
       "        vertical-align: top;\n",
       "    }\n",
       "\n",
       "    .dataframe thead th {\n",
       "        text-align: right;\n",
       "    }\n",
       "</style>\n",
       "<table border=\"1\" class=\"dataframe\">\n",
       "  <thead>\n",
       "    <tr style=\"text-align: right;\">\n",
       "      <th></th>\n",
       "      <th>marketplace</th>\n",
       "      <th>customer_id</th>\n",
       "      <th>review_id</th>\n",
       "      <th>product_id</th>\n",
       "      <th>product_parent</th>\n",
       "      <th>product_title</th>\n",
       "      <th>product_category</th>\n",
       "      <th>star_rating</th>\n",
       "      <th>helpful_votes</th>\n",
       "      <th>total_votes</th>\n",
       "      <th>vine</th>\n",
       "      <th>verified_purchase</th>\n",
       "      <th>review_headline</th>\n",
       "      <th>review_body</th>\n",
       "      <th>review_date</th>\n",
       "    </tr>\n",
       "  </thead>\n",
       "  <tbody>\n",
       "    <tr>\n",
       "      <th>0</th>\n",
       "      <td>US</td>\n",
       "      <td>12892960</td>\n",
       "      <td>R2XR0UT1T6PLK2</td>\n",
       "      <td>B00U1UEPEQ</td>\n",
       "      <td>636727185</td>\n",
       "      <td>Corel Parent</td>\n",
       "      <td>Digital_Software</td>\n",
       "      <td>4</td>\n",
       "      <td>1</td>\n",
       "      <td>1</td>\n",
       "      <td>N</td>\n",
       "      <td>Y</td>\n",
       "      <td>ok fro $$</td>\n",
       "      <td>Not as good as other video editing software bu...</td>\n",
       "      <td>2015-08-26</td>\n",
       "    </tr>\n",
       "    <tr>\n",
       "      <th>1</th>\n",
       "      <td>US</td>\n",
       "      <td>38066706</td>\n",
       "      <td>RXHDB0XFQ4ZNG</td>\n",
       "      <td>B00B1TGUMG</td>\n",
       "      <td>284323980</td>\n",
       "      <td>Microsoft Office Home and Student 2013 (1PC/1U...</td>\n",
       "      <td>Digital_Software</td>\n",
       "      <td>3</td>\n",
       "      <td>2</td>\n",
       "      <td>2</td>\n",
       "      <td>N</td>\n",
       "      <td>Y</td>\n",
       "      <td>Buy if you must</td>\n",
       "      <td>It's MS, what can you say? Some of the feature...</td>\n",
       "      <td>2015-08-26</td>\n",
       "    </tr>\n",
       "    <tr>\n",
       "      <th>2</th>\n",
       "      <td>US</td>\n",
       "      <td>44064300</td>\n",
       "      <td>RB73SNLMTWW61</td>\n",
       "      <td>B00B1TGUMG</td>\n",
       "      <td>284323980</td>\n",
       "      <td>Microsoft Office Home and Student 2013 (1PC/1U...</td>\n",
       "      <td>Digital_Software</td>\n",
       "      <td>5</td>\n",
       "      <td>0</td>\n",
       "      <td>2</td>\n",
       "      <td>N</td>\n",
       "      <td>Y</td>\n",
       "      <td>Five Stars</td>\n",
       "      <td>works!</td>\n",
       "      <td>2015-08-26</td>\n",
       "    </tr>\n",
       "    <tr>\n",
       "      <th>3</th>\n",
       "      <td>US</td>\n",
       "      <td>40284469</td>\n",
       "      <td>R2AMUKDZL5F8AY</td>\n",
       "      <td>B00LU2XOLO</td>\n",
       "      <td>325816739</td>\n",
       "      <td>Kaspersky Internet Security 2015 3 User, 1 Year</td>\n",
       "      <td>Digital_Software</td>\n",
       "      <td>3</td>\n",
       "      <td>0</td>\n",
       "      <td>0</td>\n",
       "      <td>N</td>\n",
       "      <td>Y</td>\n",
       "      <td>Three Stars</td>\n",
       "      <td>can register only in local..&lt;br /&gt;here is cann...</td>\n",
       "      <td>2015-08-26</td>\n",
       "    </tr>\n",
       "    <tr>\n",
       "      <th>4</th>\n",
       "      <td>US</td>\n",
       "      <td>1969985</td>\n",
       "      <td>R1066MVAFC477L</td>\n",
       "      <td>B00JPRUDFQ</td>\n",
       "      <td>23010115</td>\n",
       "      <td>WordPerfect Office X7 Home and Student</td>\n",
       "      <td>Digital_Software</td>\n",
       "      <td>3</td>\n",
       "      <td>0</td>\n",
       "      <td>0</td>\n",
       "      <td>N</td>\n",
       "      <td>Y</td>\n",
       "      <td>Three Stars</td>\n",
       "      <td>It's good</td>\n",
       "      <td>2015-08-26</td>\n",
       "    </tr>\n",
       "  </tbody>\n",
       "</table>\n",
       "</div>"
      ],
      "text/plain": [
       "  marketplace customer_id       review_id  product_id product_parent  \\\n",
       "0          US    12892960  R2XR0UT1T6PLK2  B00U1UEPEQ      636727185   \n",
       "1          US    38066706   RXHDB0XFQ4ZNG  B00B1TGUMG      284323980   \n",
       "2          US    44064300   RB73SNLMTWW61  B00B1TGUMG      284323980   \n",
       "3          US    40284469  R2AMUKDZL5F8AY  B00LU2XOLO      325816739   \n",
       "4          US     1969985  R1066MVAFC477L  B00JPRUDFQ       23010115   \n",
       "\n",
       "                                       product_title  product_category  \\\n",
       "0                                       Corel Parent  Digital_Software   \n",
       "1  Microsoft Office Home and Student 2013 (1PC/1U...  Digital_Software   \n",
       "2  Microsoft Office Home and Student 2013 (1PC/1U...  Digital_Software   \n",
       "3    Kaspersky Internet Security 2015 3 User, 1 Year  Digital_Software   \n",
       "4             WordPerfect Office X7 Home and Student  Digital_Software   \n",
       "\n",
       "   star_rating  helpful_votes  total_votes vine verified_purchase  \\\n",
       "0            4              1            1    N                 Y   \n",
       "1            3              2            2    N                 Y   \n",
       "2            5              0            2    N                 Y   \n",
       "3            3              0            0    N                 Y   \n",
       "4            3              0            0    N                 Y   \n",
       "\n",
       "   review_headline                                        review_body  \\\n",
       "0        ok fro $$  Not as good as other video editing software bu...   \n",
       "1  Buy if you must  It's MS, what can you say? Some of the feature...   \n",
       "2       Five Stars                                             works!   \n",
       "3      Three Stars  can register only in local..<br />here is cann...   \n",
       "4      Three Stars                                          It's good   \n",
       "\n",
       "  review_date  \n",
       "0  2015-08-26  \n",
       "1  2015-08-26  \n",
       "2  2015-08-26  \n",
       "3  2015-08-26  \n",
       "4  2015-08-26  "
      ]
     },
     "execution_count": 11,
     "metadata": {},
     "output_type": "execute_result"
    }
   ],
   "source": [
    "df.head(5)"
   ]
  },
  {
   "cell_type": "markdown",
   "metadata": {},
   "source": [
    "# Query from Athena in Chunks\n",
    "Retrieving in chunks can help reduce memory requirements."
   ]
  },
  {
   "cell_type": "code",
   "execution_count": 12,
   "metadata": {},
   "outputs": [
    {
     "name": "stdout",
     "output_type": "stream",
     "text": [
      "CPU times: user 193 ms, sys: 17.4 ms, total: 210 ms\n",
      "Wall time: 4.25 s\n"
     ]
    }
   ],
   "source": [
    "%%time\n",
    "\n",
    "chunk_iter = wr.athena.read_sql_query(\n",
    "    sql='SELECT * FROM {} LIMIT 5000'.format(table_name_tsv),\n",
    "    database='{}'.format(database_name),\n",
    "    chunksize=64_000  # 64 KB Chunks\n",
    ")"
   ]
  },
  {
   "cell_type": "code",
   "execution_count": 13,
   "metadata": {},
   "outputs": [
    {
     "name": "stdout",
     "output_type": "stream",
     "text": [
      "     marketplace customer_id       review_id  product_id product_parent  \\\n",
      "0             US    21269168   RSH1OZ87OYK92  B013PURRZW      603406193   \n",
      "1             US      133437  R1WFOQ3N9BO65I  B00F4CEHNK      341969535   \n",
      "2             US    45765011   R3YOOS71KM5M9  B00DNHLFQA      951665344   \n",
      "3             US      113118  R3R14UATT3OUFU  B004RMK5QG      395682204   \n",
      "4             US    22151364   RV2W9SGDNQA2C  B00G9BNLQE      640460561   \n",
      "...          ...         ...             ...         ...            ...   \n",
      "4995          US    16124142  R300681GTFNO5L  B011S6DBTG      402709566   \n",
      "4996          US     1688095  R3F8QIC548OKSB  B010KYDNDG      835376637   \n",
      "4997          US    50083410  R1JZ3PA71KYCK2  B004RMK4BC      384246568   \n",
      "4998          US    13538939   RCRSJ8DOYHUXC  B0030T1AK2      329510149   \n",
      "4999          US    53090127  R2CLUUCAVBHN1F  B00P9QGNEM      577605087   \n",
      "\n",
      "                                          product_title     product_category  \\\n",
      "0                 Madden NFL 16 - Xbox One Digital Code  Digital_Video_Games   \n",
      "1                                   Xbox Live Gift Card  Digital_Video_Games   \n",
      "2     Command & Conquer The Ultimate Collection [Ins...  Digital_Video_Games   \n",
      "3                         Playstation Plus Subscription  Digital_Video_Games   \n",
      "4     Saints Row IV - Enter The Dominatrix [Online G...  Digital_Video_Games   \n",
      "...                                                 ...                  ...   \n",
      "4995              The Sims 4 Spa Day [Online Game Code]  Digital_Video_Games   \n",
      "4996            Minecraft for PC/Mac [Online Game Code]  Digital_Video_Games   \n",
      "4997                           Playstation Network Card  Digital_Video_Games   \n",
      "4998             Commandos 2: Men of Courage [Download]  Digital_Video_Games   \n",
      "4999  Never Alone (Kisima Ingitchuna) - PC [Online G...  Digital_Video_Games   \n",
      "\n",
      "      star_rating  helpful_votes  total_votes vine verified_purchase  \\\n",
      "0               2              2            3    N                 N   \n",
      "1               5              0            0    N                 Y   \n",
      "2               5              0            0    N                 Y   \n",
      "3               5              0            0    N                 Y   \n",
      "4               5              0            0    N                 Y   \n",
      "...           ...            ...          ...  ...               ...   \n",
      "4995            5              0            2    N                 N   \n",
      "4996            1              4           41    N                 N   \n",
      "4997            5              0            0    N                 Y   \n",
      "4998            5              1            1    N                 Y   \n",
      "4999            4              3            3    N                 N   \n",
      "\n",
      "                                        review_headline  \\\n",
      "0                  A slight improvement from last year.   \n",
      "1                                            Five Stars   \n",
      "2                               Hail to the great Yuri!   \n",
      "3                                            Five Stars   \n",
      "4                                            Five Stars   \n",
      "...                                                 ...   \n",
      "4995                                         Five Stars   \n",
      "4996                Mods is what makes this game great.   \n",
      "4997                                         Five Stars   \n",
      "4998                                          mast game   \n",
      "4999  Awkward controls but otherwise fine (short) pl...   \n",
      "\n",
      "                                            review_body review_date  \n",
      "0     I keep buying madden every year hoping they ge...  2015-08-31  \n",
      "1                                               Awesome  2015-08-31  \n",
      "2     If you are prepping for the end of the world t...  2015-08-31  \n",
      "3                                               Perfect  2015-08-31  \n",
      "4                                              Awesome!  2015-08-31  \n",
      "...                                                 ...         ...  \n",
      "4995                           great game for all ages!  2015-07-28  \n",
      "4996  Mojang needs to stop implementing knock-off pa...  2015-07-28  \n",
      "4997                                Works like a charm.  2015-07-28  \n",
      "4998  Ekdum zabardast game aahe nakki vikat ghya. Ba...  2015-07-28  \n",
      "4999  Never Alone is a puzzle-platformer whose prima...  2015-07-28  \n",
      "\n",
      "[5000 rows x 15 columns]\n"
     ]
    }
   ],
   "source": [
    "print(next(chunk_iter))"
   ]
  },
  {
   "cell_type": "code",
   "execution_count": null,
   "metadata": {},
   "outputs": [],
   "source": [
    "%%javascript\n",
    "Jupyter.notebook.save_checkpoint();\n",
    "Jupyter.notebook.session.delete();"
   ]
  }
 ],
 "metadata": {
  "kernelspec": {
   "display_name": "conda_python3",
   "language": "python",
   "name": "conda_python3"
  },
  "language_info": {
   "codemirror_mode": {
    "name": "ipython",
    "version": 3
   },
   "file_extension": ".py",
   "mimetype": "text/x-python",
   "name": "python",
   "nbconvert_exporter": "python",
   "pygments_lexer": "ipython3",
   "version": "3.6.10"
  }
 },
 "nbformat": 4,
 "nbformat_minor": 4
}
